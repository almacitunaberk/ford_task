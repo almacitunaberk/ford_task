{
 "cells": [
  {
   "cell_type": "code",
   "execution_count": 38,
   "id": "fe6d6506",
   "metadata": {},
   "outputs": [],
   "source": [
    "import numpy as np\n",
    "import cv2\n",
    "import json\n",
    "import os\n",
    "import tqdm"
   ]
  },
  {
   "cell_type": "code",
   "execution_count": 39,
   "id": "f9abab93",
   "metadata": {},
   "outputs": [],
   "source": [
    "MASK_DIR = \"/home/talmaci/ford_task/data/masks\""
   ]
  },
  {
   "cell_type": "code",
   "execution_count": 40,
   "id": "18a24695",
   "metadata": {},
   "outputs": [],
   "source": [
    "if not os.path.exists(MASK_DIR):\n",
    "    os.mkdir(MASK_DIR)"
   ]
  },
  {
   "cell_type": "code",
   "execution_count": 41,
   "id": "a213925a",
   "metadata": {},
   "outputs": [],
   "source": [
    "JSON_DIR = \"/home/talmaci/ford_task/data/jsons\""
   ]
  },
  {
   "cell_type": "code",
   "execution_count": 42,
   "id": "a15ed0e2",
   "metadata": {},
   "outputs": [],
   "source": [
    "jsons = os.listdir(JSON_DIR)"
   ]
  },
  {
   "cell_type": "code",
   "execution_count": 43,
   "id": "3b4c938e",
   "metadata": {},
   "outputs": [
    {
     "name": "stderr",
     "output_type": "stream",
     "text": [
      "100%|█████████████████████████████████████████████████████████████████████████████████████████████████████| 100/100 [00:00<00:00, 6405.96it/s]"
     ]
    },
    {
     "name": "stdout",
     "output_type": "stream",
     "text": [
      "['Freespace', 'Debris', 'Traffic Cone', 'Traffic Barrier']\n"
     ]
    },
    {
     "name": "stderr",
     "output_type": "stream",
     "text": [
      "\n"
     ]
    }
   ],
   "source": [
    "polygon_classes = []\n",
    "for json_name in tqdm.tqdm(jsons):\n",
    "    json_path = os.path.join(JSON_DIR, json_name)\n",
    "    json_file = open(json_path, \"r\")\n",
    "    json_dict = json.load(json_file)\n",
    "    for obj in json_dict[\"objects\"]:\n",
    "        if obj[\"geometryType\"] == \"polygon\" and obj[\"classTitle\"] not in polygon_classes:\n",
    "            polygon_classes.append(obj[\"classTitle\"])\n",
    "print(polygon_classes)"
   ]
  },
  {
   "cell_type": "code",
   "execution_count": 44,
   "id": "7d7950e8",
   "metadata": {},
   "outputs": [],
   "source": [
    "for polygon_class in polygon_classes:\n",
    "    polygon_class = polygon_class.lower()\n",
    "    directory_name = MASK_DIR + \"/\" + polygon_class\n",
    "    if not os.path.exists(directory_name):\n",
    "        os.mkdir(directory_name)"
   ]
  },
  {
   "cell_type": "code",
   "execution_count": 45,
   "id": "5f7f96d4",
   "metadata": {},
   "outputs": [
    {
     "name": "stdout",
     "output_type": "stream",
     "text": [
      "['Freespace', 'Debris', 'Traffic Cone', 'Traffic Barrier']\n"
     ]
    }
   ],
   "source": [
    "print(polygon_classes)"
   ]
  },
  {
   "cell_type": "code",
   "execution_count": null,
   "id": "ae8e69b8",
   "metadata": {},
   "outputs": [],
   "source": []
  },
  {
   "cell_type": "code",
   "execution_count": 46,
   "id": "bb1510d8",
   "metadata": {},
   "outputs": [
    {
     "name": "stderr",
     "output_type": "stream",
     "text": [
      "100%|██████████████████████████████████████████████████████████████████████████████████████████████████████| 100/100 [00:00<00:00, 148.83it/s]\n"
     ]
    }
   ],
   "source": [
    "for json_name in tqdm.tqdm(jsons):\n",
    "    json_path = os.path.join(JSON_DIR, json_name)\n",
    "    json_file = open(json_path, \"r\")\n",
    "    json_dict = json.load(json_file)\n",
    "    mask = np.zeros((json_dict[\"size\"][\"height\"], json_dict[\"size\"][\"width\"]), dtype=np.uint8)    \n",
    "    mask_path = \"/home/talmaci/ford_task/data/all_masks/\" + json_name[:-5]\n",
    "    for obj in json_dict[\"objects\"]:\n",
    "        if obj[\"classTitle\"] in polygon_classes:\n",
    "            #random.seed(polygon_classes.index(obj[\"classTitle\"]))\n",
    "            cv2.fillPoly(mask, np.array([obj[\"points\"][\"exterior\"]]), color=polygon_classes.index(obj[\"classTitle\"]) + 1)            \n",
    "    cv2.imwrite(mask_path, mask.astype(np.uint8))"
   ]
  },
  {
   "cell_type": "code",
   "execution_count": 17,
   "id": "f1c6dbf0",
   "metadata": {},
   "outputs": [],
   "source": []
  },
  {
   "cell_type": "code",
   "execution_count": 47,
   "id": "b0d127c0",
   "metadata": {
    "scrolled": true
   },
   "outputs": [
    {
     "name": "stderr",
     "output_type": "stream",
     "text": [
      "100%|██████████████████████████████████████████████████████████████████████████████████████████████████████| 100/100 [00:00<00:00, 158.14it/s]\n",
      "100%|██████████████████████████████████████████████████████████████████████████████████████████████████████| 100/100 [00:00<00:00, 156.91it/s]\n",
      "100%|██████████████████████████████████████████████████████████████████████████████████████████████████████| 100/100 [00:00<00:00, 162.73it/s]\n",
      "100%|██████████████████████████████████████████████████████████████████████████████████████████████████████| 100/100 [00:00<00:00, 162.82it/s]\n"
     ]
    }
   ],
   "source": [
    "for polygon_class in polygon_classes:\n",
    "    for json_name in tqdm.tqdm(jsons):\n",
    "        json_path = os.path.join(JSON_DIR, json_name)\n",
    "        json_file = open(json_path, \"r\")\n",
    "        json_dict = json.load(json_file)\n",
    "        mask = np.zeros((json_dict[\"size\"][\"height\"], json_dict[\"size\"][\"width\"]), dtype=np.uint8)\n",
    "        mask_path_to_separate_dir = MASK_DIR + \"/\" + polygon_class.lower() + \"/\" + json_name[:-5]\n",
    "        for obj in json_dict[\"objects\"]:\n",
    "            if obj[\"classTitle\"] == polygon_class:\n",
    "                cv2.fillPoly(mask,np.array([obj[\"points\"][\"exterior\"]]), color=255)\n",
    "        cv2.imwrite(mask_path_to_separate_dir, mask.astype(np.uint8))"
   ]
  },
  {
   "cell_type": "code",
   "execution_count": null,
   "id": "3f502ecf",
   "metadata": {},
   "outputs": [],
   "source": []
  }
 ],
 "metadata": {
  "kernelspec": {
   "display_name": "Python 3",
   "language": "python",
   "name": "python3"
  },
  "language_info": {
   "codemirror_mode": {
    "name": "ipython",
    "version": 3
   },
   "file_extension": ".py",
   "mimetype": "text/x-python",
   "name": "python",
   "nbconvert_exporter": "python",
   "pygments_lexer": "ipython3",
   "version": "3.9.7"
  }
 },
 "nbformat": 4,
 "nbformat_minor": 5
}
