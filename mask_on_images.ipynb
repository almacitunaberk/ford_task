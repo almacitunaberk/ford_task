{
 "cells": [
  {
   "cell_type": "code",
   "execution_count": 28,
   "id": "1a639d4c",
   "metadata": {},
   "outputs": [],
   "source": [
    "import os\n",
    "import cv2\n",
    "import tqdm\n",
    "import numpy as np\n",
    "import random"
   ]
  },
  {
   "cell_type": "code",
   "execution_count": 29,
   "id": "559eda70",
   "metadata": {},
   "outputs": [],
   "source": [
    "RESULT_DIR = \"/home/talmaci/ford_task/data/result\""
   ]
  },
  {
   "cell_type": "code",
   "execution_count": 30,
   "id": "5bf3659f",
   "metadata": {},
   "outputs": [],
   "source": [
    "if not os.path.exists(RESULT_DIR):\n",
    "    os.mkdir(RESULT_DIR)"
   ]
  },
  {
   "cell_type": "code",
   "execution_count": 31,
   "id": "9f5cc4b8",
   "metadata": {},
   "outputs": [],
   "source": [
    "IMG_DIR = \"/home/talmaci/ford_task/data/image\""
   ]
  },
  {
   "cell_type": "code",
   "execution_count": 32,
   "id": "461a9f7a",
   "metadata": {},
   "outputs": [],
   "source": [
    "MASK_DIR = \"/home/talmaci/ford_task/data/masks\""
   ]
  },
  {
   "cell_type": "code",
   "execution_count": 39,
   "id": "24a77b54",
   "metadata": {},
   "outputs": [
    {
     "name": "stdout",
     "output_type": "stream",
     "text": [
      "['traffic cone', 'freespace', 'debris', 'traffic barrier']\n"
     ]
    }
   ],
   "source": [
    "mask_classes = os.listdir(MASK_DIR)\n",
    "print(mask_classes)"
   ]
  },
  {
   "cell_type": "code",
   "execution_count": 45,
   "id": "622614d6",
   "metadata": {},
   "outputs": [
    {
     "name": "stdout",
     "output_type": "stream",
     "text": [
      "['814873_cfc_000241.png', '848449_cfc_002323.png', '1617352_cfc_001068.png', '317256_cfc_010897.png', '848572_cfc_002446.png', '583261_cfcu_000987.png', '1618163_cfc_001240.png', '626323_cfc_001783.png', '920855_cfc_002425.png', '754867_cfc_001357.png', '920704_cfc_002274.png', '319296_cfc_012937.png', '625119_cfc_000579.png', '34297_cfc_003391.png', '920075_cfc_001645.png', '847342_cfc_001216.png', '885584_cfc_001286.png', '1384657_cfc_006451.png', '569249_cfc_001942.png', '133859_cfc_009699.png', '918720_cfc_000290.png', '1376956_cfc_001665.png', '797818_cfc_000298.png', '754700_cfc_001190.png', '500701_cfc_001060.png', '503541_cfc_003900.png', '920230_cfc_001800.png', '503996_cfc_004355.png', '317336_cfc_010977.png', '1386084_cfc_007350.png', '779604_cfc_001968.png', '625129_cfc_000589.png', '797627_cfc_000107.png', '884807_cfc_000509.png', '798079_cfc_000559.png', '754797_cfc_001287.png', '973025_cfc_000877.png', '179301_cfc_012316.png', '778137_cfc_000501.png', '1378494_cfc_002621.png', '583283_cfcu_001009.png', '648497_cfc_000029.png', '846222_cfc_000096.png', '407729_cfc_004686.png', '322641_cfc_016282.png', '778574_cfc_000938.png', '848700_cfc_002574.png', '503641_cfc_004000.png', '32023_cfc_001117.png', '671136_cfc_002206.png', '571334_cfc_004027.png', '59247_cfc_010147.png', '797988_cfc_000468.png', '886483_cfc_002185.png', '846995_cfc_000869.png', '582352_cfcu_000078.png', '816099_cfc_001467.png', '1385863_cfc_007211.png', '606960_cfc_000456.png', '1379123_cfc_003007.png', '407869_cfc_004826.png', '406709_cfc_003666.png', '34572_cfc_003666.png', '815203_cfc_000571.png', '670460_cfc_001530.png', '34847_cfc_003941.png', '1381003_cfc_004169.png', '1386395_cfc_007546.png', '945913_cfc_001167.png', '1375988_cfc_001057.png', '754013_cfc_000503.png', '1384504_cfc_006354.png', '944986_cfc_000240.png', '797844_cfc_000324.png', '570390_cfc_003083.png', '1613359_cfc_000226.png', '754344_cfc_000834.png', '624752_cfc_000212.png', '35228_cfc_004322.png', '569394_cfc_002087.png', '317721_cfc_011362.png', '32850_cfc_001944.png', '625248_cfc_000708.png', '670458_cfc_001528.png', '567721_cfc_000414.png', '846435_cfc_000309.png', '886441_cfc_002143.png', '846484_cfc_000358.png', '569169_cfc_001862.png', '35677_cfc_004771.png', '35640_cfc_004734.png', '131235_cfc_007075.png', '848703_cfc_002577.png', '974755_cfc_002607.png', '1386610_cfc_007681.png', '779693_cfc_002057.png', '569277_cfc_001970.png', '1384088_cfc_006092.png', '974855_cfc_002707.png', '1564724_cfc_000508.png']\n"
     ]
    }
   ],
   "source": [
    "mask_names = os.listdir(MASK_DIR + \"/\" + mask_classes[0])\n",
    "print(mask_names)"
   ]
  },
  {
   "cell_type": "code",
   "execution_count": 46,
   "id": "44d38553",
   "metadata": {},
   "outputs": [
    {
     "name": "stdout",
     "output_type": "stream",
     "text": [
      "{'traffic cone': (223, 1, 72), 'freespace': (77, 193, 64), 'debris': (95, 63, 173), 'traffic barrier': (235, 28, 43)}\n"
     ]
    }
   ],
   "source": [
    "colors_for_classes = {}\n",
    "for mask_class in mask_classes:\n",
    "    colors_for_classes[mask_class] = tuple(list(np.random.choice(range(256), size=3)))\n",
    "print(colors_for_classes)"
   ]
  },
  {
   "cell_type": "code",
   "execution_count": 47,
   "id": "82c09803",
   "metadata": {},
   "outputs": [],
   "source": [
    "colors_for_classes[mask_classes[0]] = (0,255,0)\n",
    "colors_for_classes[mask_classes[1]] = (0,0,255)\n",
    "colors_for_classes[mask_classes[2]] = (255,0,0)\n",
    "colors_for_classes[mask_classes[3]] = (125,125,125)"
   ]
  },
  {
   "cell_type": "code",
   "execution_count": 48,
   "id": "c8eed92a",
   "metadata": {},
   "outputs": [
    {
     "name": "stderr",
     "output_type": "stream",
     "text": [
      "100%|███████████████████████████████████████████████████████████████████████████████████████████████████████| 100/100 [00:13<00:00,  7.57it/s]\n"
     ]
    }
   ],
   "source": [
    "for mask_name in tqdm.tqdm(mask_names):\n",
    "    img = cv2.imread(os.path.join(IMG_DIR, mask_name)).astype(np.uint8)\n",
    "    cv2.imwrite(os.path.join(RESULT_DIR, mask_name), img)"
   ]
  },
  {
   "cell_type": "code",
   "execution_count": 49,
   "id": "2257124e",
   "metadata": {},
   "outputs": [
    {
     "name": "stderr",
     "output_type": "stream",
     "text": [
      "100%|███████████████████████████████████████████████████████████████████████████████████████████████████████| 100/100 [00:18<00:00,  5.30it/s]\n",
      "100%|███████████████████████████████████████████████████████████████████████████████████████████████████████| 100/100 [00:20<00:00,  4.93it/s]\n",
      "100%|███████████████████████████████████████████████████████████████████████████████████████████████████████| 100/100 [00:18<00:00,  5.52it/s]\n",
      "100%|███████████████████████████████████████████████████████████████████████████████████████████████████████| 100/100 [00:17<00:00,  5.56it/s]\n"
     ]
    }
   ],
   "source": [
    "for mask_class in mask_classes:\n",
    "    for mask_name in tqdm.tqdm(mask_names):\n",
    "        img = cv2.imread(os.path.join(RESULT_DIR, mask_name)).astype(np.uint8)\n",
    "        mask = cv2.imread(os.path.join(MASK_DIR, mask_class,mask_name), 0).astype(np.uint8)\n",
    "        cpy_img = img.copy()\n",
    "        img[mask==255, :] = colors_for_classes[mask_class]\n",
    "        opac_image = (img/2 + cpy_img/2).astype(np.uint8)\n",
    "        masked = cv2.bitwise_and(opac_image, opac_image, mask=mask)\n",
    "        cv2.imwrite(os.path.join(RESULT_DIR, mask_name), opac_image)"
   ]
  },
  {
   "cell_type": "code",
   "execution_count": null,
   "id": "ae8a555e",
   "metadata": {},
   "outputs": [],
   "source": []
  },
  {
   "cell_type": "code",
   "execution_count": 27,
   "id": "701b5748",
   "metadata": {},
   "outputs": [
    {
     "name": "stderr",
     "output_type": "stream",
     "text": [
      "  0%|                                                                                                                 | 0/100 [00:00<?, ?it/s]"
     ]
    },
    {
     "name": "stdout",
     "output_type": "stream",
     "text": [
      "814873_cfc_000241.png\n"
     ]
    },
    {
     "name": "stderr",
     "output_type": "stream",
     "text": [
      "\n"
     ]
    },
    {
     "ename": "AttributeError",
     "evalue": "'NoneType' object has no attribute 'astype'",
     "output_type": "error",
     "traceback": [
      "\u001b[0;31m---------------------------------------------------------------------------\u001b[0m",
      "\u001b[0;31mAttributeError\u001b[0m                            Traceback (most recent call last)",
      "\u001b[0;32m/tmp/ipykernel_12837/2863464672.py\u001b[0m in \u001b[0;36m<module>\u001b[0;34m\u001b[0m\n\u001b[1;32m      3\u001b[0m     \u001b[0mimg\u001b[0m \u001b[0;34m=\u001b[0m \u001b[0mcv2\u001b[0m\u001b[0;34m.\u001b[0m\u001b[0mimread\u001b[0m\u001b[0;34m(\u001b[0m\u001b[0mos\u001b[0m\u001b[0;34m.\u001b[0m\u001b[0mpath\u001b[0m\u001b[0;34m.\u001b[0m\u001b[0mjoin\u001b[0m\u001b[0;34m(\u001b[0m\u001b[0mIMG_DIR\u001b[0m\u001b[0;34m,\u001b[0m\u001b[0mmask_name\u001b[0m\u001b[0;34m)\u001b[0m\u001b[0;34m)\u001b[0m\u001b[0;34m.\u001b[0m\u001b[0mastype\u001b[0m\u001b[0;34m(\u001b[0m\u001b[0mnp\u001b[0m\u001b[0;34m.\u001b[0m\u001b[0muint8\u001b[0m\u001b[0;34m)\u001b[0m\u001b[0;34m\u001b[0m\u001b[0;34m\u001b[0m\u001b[0m\n\u001b[1;32m      4\u001b[0m     \u001b[0;31m#cv2.imshow(\"Original Image\", img)\u001b[0m\u001b[0;34m\u001b[0m\u001b[0;34m\u001b[0m\u001b[0m\n\u001b[0;32m----> 5\u001b[0;31m     \u001b[0mmask\u001b[0m \u001b[0;34m=\u001b[0m \u001b[0mcv2\u001b[0m\u001b[0;34m.\u001b[0m\u001b[0mimread\u001b[0m\u001b[0;34m(\u001b[0m\u001b[0mos\u001b[0m\u001b[0;34m.\u001b[0m\u001b[0mpath\u001b[0m\u001b[0;34m.\u001b[0m\u001b[0mjoin\u001b[0m\u001b[0;34m(\u001b[0m\u001b[0mMASK_DIR\u001b[0m\u001b[0;34m,\u001b[0m \u001b[0mmask_name\u001b[0m\u001b[0;34m)\u001b[0m\u001b[0;34m,\u001b[0m \u001b[0;36m0\u001b[0m\u001b[0;34m)\u001b[0m\u001b[0;34m.\u001b[0m\u001b[0mastype\u001b[0m\u001b[0;34m(\u001b[0m\u001b[0mnp\u001b[0m\u001b[0;34m.\u001b[0m\u001b[0muint8\u001b[0m\u001b[0;34m)\u001b[0m\u001b[0;34m\u001b[0m\u001b[0;34m\u001b[0m\u001b[0m\n\u001b[0m\u001b[1;32m      6\u001b[0m     \u001b[0;31m#cv2.imshow(\"Mask\", mask)\u001b[0m\u001b[0;34m\u001b[0m\u001b[0;34m\u001b[0m\u001b[0m\n\u001b[1;32m      7\u001b[0m     \u001b[0mcpy_img\u001b[0m \u001b[0;34m=\u001b[0m \u001b[0mimg\u001b[0m\u001b[0;34m.\u001b[0m\u001b[0mcopy\u001b[0m\u001b[0;34m(\u001b[0m\u001b[0;34m)\u001b[0m\u001b[0;34m\u001b[0m\u001b[0;34m\u001b[0m\u001b[0m\n",
      "\u001b[0;31mAttributeError\u001b[0m: 'NoneType' object has no attribute 'astype'"
     ]
    }
   ],
   "source": [
    "\"\"\"\n",
    "for mask_name in tqdm.tqdm(mask_names):\n",
    "    print(mask_name)\n",
    "    img = cv2.imread(os.path.join(IMG_DIR,mask_name)).astype(np.uint8)\n",
    "    #cv2.imshow(\"Original Image\", img)\n",
    "    mask = cv2.imread(os.path.join(MASK_DIR, mask_name), 0).astype(np.uint8)\n",
    "    #cv2.imshow(\"Mask\", mask)\n",
    "    cpy_img = img.copy()\n",
    "    img[mask==255, :] = (0,255,125)\n",
    "    #cv2.imshow(\"After\", img)\n",
    "    opac_image = (img/2 + cpy_img/2).astype(np.uint8)\n",
    "    masked = cv2.bitwise_and(opac_image, opac_image, mask=mask)\n",
    "    #cv2.imshow(\"Opac Image\", opac_image)\n",
    "    cv2.imwrite(os.path.join(RESULT_DIR, mask_name), opac_image)\n",
    "\"\"\""
   ]
  },
  {
   "cell_type": "code",
   "execution_count": null,
   "id": "2f339668",
   "metadata": {},
   "outputs": [],
   "source": []
  }
 ],
 "metadata": {
  "kernelspec": {
   "display_name": "Python 3",
   "language": "python",
   "name": "python3"
  },
  "language_info": {
   "codemirror_mode": {
    "name": "ipython",
    "version": 3
   },
   "file_extension": ".py",
   "mimetype": "text/x-python",
   "name": "python",
   "nbconvert_exporter": "python",
   "pygments_lexer": "ipython3",
   "version": "3.9.7"
  }
 },
 "nbformat": 4,
 "nbformat_minor": 5
}
